{
 "cells": [
  {
   "cell_type": "code",
   "execution_count": 6,
   "metadata": {},
   "outputs": [],
   "source": [
    "import os\n",
    "import cv2\n",
    "import xml.etree.ElementTree as ET\n",
    "import numpy as np\n",
    "from tensorflow import keras\n",
    "import tkinter as tk\n",
    "from tkinter import filedialog"
   ]
  },
  {
   "cell_type": "code",
   "execution_count": 7,
   "metadata": {},
   "outputs": [],
   "source": [
    "# Define the dataset directories\n",
    "dataset_dir = 'C:/Users/Administrator/Desktop/EasyFact/Model/TF/Small_Dataset'\n",
    "train_dir = os.path.join(dataset_dir, 'train')\n",
    "val_dir = os.path.join(dataset_dir, 'val')\n",
    "test_dir = os.path.join(dataset_dir, 'test')"
   ]
  },
  {
   "cell_type": "code",
   "execution_count": 8,
   "metadata": {},
   "outputs": [],
   "source": [
    "# Define the classes and their IDs\n",
    "classes = {'Total': 0}"
   ]
  },
  {
   "cell_type": "code",
   "execution_count": 9,
   "metadata": {},
   "outputs": [],
   "source": [
    "# Define the size of the input images\n",
    "img_height = 224\n",
    "img_width = 224"
   ]
  },
  {
   "cell_type": "code",
   "execution_count": 10,
   "metadata": {},
   "outputs": [],
   "source": [
    "def load_dataset(dir):\n",
    "    # Initialize the lists to store the images and labels\n",
    "    images = []\n",
    "    labels = []\n",
    "\n",
    "    # Loop through the XML files in the directory\n",
    "    for xml_file in os.listdir(dir):\n",
    "        if not xml_file.endswith('.xml'):\n",
    "            continue\n",
    "        \n",
    "        # Parse the XML file to extract the bounding boxes\n",
    "        tree = ET.parse(os.path.join(dir, xml_file))\n",
    "        root = tree.getroot()\n",
    "        objects = root.findall('object')\n",
    "\n",
    "        # Load the corresponding image file\n",
    "        img_filename = root.find('filename').text\n",
    "        img = cv2.imread(os.path.join(dir, img_filename))\n",
    "\n",
    "        # Loop through the objects in the XML file\n",
    "        for obj in objects:\n",
    "            class_name = obj.find('name').text\n",
    "            xmin = int(obj.find('bndbox/xmin').text)\n",
    "            ymin = int(obj.find('bndbox/ymin').text)\n",
    "            xmax = int(obj.find('bndbox/xmax').text)\n",
    "            ymax = int(obj.find('bndbox/ymax').text)\n",
    "\n",
    "            # Crop and resize the image to the specified size\n",
    "            cropped_img = img[ymin:ymax, xmin:xmax]\n",
    "            resized_img = cv2.resize(cropped_img, (img_height, img_width))\n",
    "\n",
    "            # Append the image and label to the lists\n",
    "            images.append(resized_img)\n",
    "            labels.append(classes[class_name])\n",
    "\n",
    "    return np.array(images), np.array(labels)"
   ]
  },
  {
   "cell_type": "code",
   "execution_count": 11,
   "metadata": {},
   "outputs": [],
   "source": [
    "# Load the dataset and preprocess it\n",
    "X_train, y_train = load_dataset(train_dir)\n",
    "X_val, y_val = load_dataset(val_dir)\n",
    "X_test, y_test = load_dataset(test_dir)"
   ]
  },
  {
   "cell_type": "code",
   "execution_count": 12,
   "metadata": {},
   "outputs": [],
   "source": [
    "# Set the labels for the \"Total\" class to 1 and all other classes to 0\n",
    "y_train[y_train != 1] = 0\n",
    "y_val[y_val != 1] = 0\n",
    "y_test[y_test != 1] = 0"
   ]
  },
  {
   "cell_type": "code",
   "execution_count": 13,
   "metadata": {},
   "outputs": [],
   "source": [
    "# # Normalize the pixel values to be between 0 and 1\n",
    "X_train = X_train / 255.0\n",
    "X_val = X_val / 255.0\n",
    "X_test = X_test / 255.0"
   ]
  },
  {
   "cell_type": "code",
   "execution_count": 14,
   "metadata": {},
   "outputs": [],
   "source": [
    "# Shuffle the training data\n",
    "idxs = np.arange(len(X_train))\n",
    "np.random.shuffle(idxs)\n",
    "X_train = X_train[idxs]\n",
    "y_train = y_train[idxs]"
   ]
  },
  {
   "cell_type": "code",
   "execution_count": 15,
   "metadata": {},
   "outputs": [],
   "source": [
    "# Define the model architecture\n",
    "model = keras.Sequential([\n",
    "    keras.layers.Conv2D(32, kernel_size=(3, 3), activation='relu', input_shape=(img_height, img_width, 3)),\n",
    "    keras.layers.MaxPooling2D(pool_size=(2, 2)),\n",
    "    keras.layers.Flatten(),\n",
    "    keras.layers.Dense(128, activation='relu'),\n",
    "    keras.layers.Dense(1, activation='sigmoid')\n",
    "])"
   ]
  },
  {
   "cell_type": "code",
   "execution_count": 16,
   "metadata": {},
   "outputs": [
    {
     "name": "stdout",
     "output_type": "stream",
     "text": [
      "Model: \"sequential\"\n",
      "_________________________________________________________________\n",
      " Layer (type)                Output Shape              Param #   \n",
      "=================================================================\n",
      " conv2d (Conv2D)             (None, 222, 222, 32)      896       \n",
      "                                                                 \n",
      " max_pooling2d (MaxPooling2D  (None, 111, 111, 32)     0         \n",
      " )                                                               \n",
      "                                                                 \n",
      " flatten (Flatten)           (None, 394272)            0         \n",
      "                                                                 \n",
      " dense (Dense)               (None, 128)               50466944  \n",
      "                                                                 \n",
      " dense_1 (Dense)             (None, 1)                 129       \n",
      "                                                                 \n",
      "=================================================================\n",
      "Total params: 50,467,969\n",
      "Trainable params: 50,467,969\n",
      "Non-trainable params: 0\n",
      "_________________________________________________________________\n",
      "Epoch 1/10\n",
      "1/1 [==============================] - 5s 5s/step - loss: 0.7819 - accuracy: 0.0000e+00 - val_loss: 0.0000e+00 - val_accuracy: 1.0000\n",
      "Epoch 2/10\n",
      "1/1 [==============================] - 2s 2s/step - loss: 0.0000e+00 - accuracy: 1.0000 - val_loss: 0.0000e+00 - val_accuracy: 1.0000\n",
      "Epoch 3/10\n",
      "1/1 [==============================] - 2s 2s/step - loss: 0.0000e+00 - accuracy: 1.0000 - val_loss: 0.0000e+00 - val_accuracy: 1.0000\n",
      "Epoch 4/10\n",
      "1/1 [==============================] - 2s 2s/step - loss: 0.0000e+00 - accuracy: 1.0000 - val_loss: 0.0000e+00 - val_accuracy: 1.0000\n",
      "Epoch 5/10\n",
      "1/1 [==============================] - 3s 3s/step - loss: 0.0000e+00 - accuracy: 1.0000 - val_loss: 0.0000e+00 - val_accuracy: 1.0000\n",
      "Epoch 6/10\n",
      "1/1 [==============================] - 2s 2s/step - loss: 0.0000e+00 - accuracy: 1.0000 - val_loss: 0.0000e+00 - val_accuracy: 1.0000\n",
      "Epoch 7/10\n",
      "1/1 [==============================] - 2s 2s/step - loss: 0.0000e+00 - accuracy: 1.0000 - val_loss: 0.0000e+00 - val_accuracy: 1.0000\n",
      "Epoch 8/10\n",
      "1/1 [==============================] - 2s 2s/step - loss: 0.0000e+00 - accuracy: 1.0000 - val_loss: 0.0000e+00 - val_accuracy: 1.0000\n",
      "Epoch 9/10\n",
      "1/1 [==============================] - 2s 2s/step - loss: 0.0000e+00 - accuracy: 1.0000 - val_loss: 0.0000e+00 - val_accuracy: 1.0000\n",
      "Epoch 10/10\n",
      "1/1 [==============================] - 2s 2s/step - loss: 0.0000e+00 - accuracy: 1.0000 - val_loss: 0.0000e+00 - val_accuracy: 1.0000\n",
      "1/1 [==============================] - 0s 447ms/step - loss: 1150.1669 - accuracy: 0.0000e+00\n",
      "Test loss: 1150.1668701171875\n",
      "Test accuracy: 0.0\n"
     ]
    }
   ],
   "source": [
    "# Compile the model with a binary cross-entropy loss function and Adam optimizer\n",
    "model.compile(loss='binary_crossentropy', optimizer='adam', metrics=['accuracy'])\n",
    "model.summary()\n",
    "model.fit(X_train, keras.utils.to_categorical(y_train), batch_size=32, epochs=10, validation_data=(X_val, keras.utils.to_categorical(y_val)))\n",
    "# Evaluate the model on the test dataset\n",
    "loss, accuracy = model.evaluate(X_test, y_test)\n",
    "# Print the loss and accuracy\n",
    "print('Test loss:', loss)\n",
    "print('Test accuracy:', accuracy)"
   ]
  },
  {
   "cell_type": "code",
   "execution_count": 1,
   "metadata": {},
   "outputs": [],
   "source": [
    "# import tkinter as tk\n",
    "# from tkinter import filedialog\n",
    "# # create a tkinter window\n",
    "# root = tk.Tk()\n",
    "# root.withdraw()\n",
    "# # open a file dialog to select an image file\n",
    "# file_path = filedialog.askopenfilename(filetypes=[(\"Image Files\", \"*.jpg;*.jpeg;*.png\")])"
   ]
  },
  {
   "cell_type": "code",
   "execution_count": null,
   "metadata": {},
   "outputs": [],
   "source": [
    "# Load the image and preprocess it\n",
    "# file_path = 'C:/Users/Administrator/Desktop/EasyFact/Model/JPG/receipts/us/bestbuy-20211211_013_1.jpg'\n",
    "# img = cv2.imread(file_path)\n",
    "# resized_img = cv2.resize(img, (img_height, img_width))\n",
    "# X = np.array([resized_img])\n",
    "# X = X / 255.0"
   ]
  },
  {
   "cell_type": "code",
   "execution_count": 19,
   "metadata": {},
   "outputs": [
    {
     "name": "stdout",
     "output_type": "stream",
     "text": [
      "1/1 [==============================] - 0s 112ms/step\n"
     ]
    },
    {
     "data": {
      "image/png": "[encoded data removed]",
      "text/plain": [
       "<Figure size 640x480 with 1 Axes>"
      ]
     },
     "metadata": {},
     "output_type": "display_data"
    }
   ],
   "source": [
    "# # Make predictions\n",
    "# y_pred = model.predict(X)\n",
    "# class_idx = np.argmax(y_pred, axis=1)[0]\n",
    "# class_name = list(classes.keys())[list(classes.values()).index(class_idx)]\n",
    "# print(f'Predicted class: {class_name}')\n",
    "# import matplotlib.pyplot as plt\n",
    "# # Load the image and preprocess it\n",
    "# file_path = 'C:/Users/Administrator/Desktop/EasyFact/Model/TF/9316628791.jpg'\n",
    "# img = cv2.imread(file_path)\n",
    "# # Preprocess the image\n",
    "# img = cv2.resize(img, (img_height, img_width))\n",
    "# img = img / 255.0\n",
    "# img = np.expand_dims(img, axis=0)\n",
    "\n",
    "# # Make a prediction with the model\n",
    "# prediction = model.predict(img)[0][0]\n",
    "\n",
    "# # Determine the predicted class\n",
    "# if prediction >= 0.5:\n",
    "#     predicted_class = 'Total'\n",
    "# else:\n",
    "#     predicted_class = 'Not Total'\n",
    "# # convert image to 8-bit depth\n",
    "# img = cv2.convertScaleAbs(img)\n",
    "\n",
    "# # add text to the image\n",
    "# # cv2.putText(img, y_train, (x, y-10), cv2.FONT_HERSHEY_SIMPLEX, 0.9, (0, 0, 255), 2)\n",
    "\n",
    "# # Display the image with the predicted label\n",
    "# plt.imshow(cv2.cvtColor(img[0], cv2.COLOR_BGR2RGB))\n",
    "# plt.title(predicted_class)\n",
    "# plt.show()"
   ]
  },
  {
   "cell_type": "code",
   "execution_count": null,
   "metadata": {},
   "outputs": [],
   "source": [
    "# display the image (optional)\n",
    "cv2.imshow(\"Selected Image\", img)\n",
    "cv2.waitKey(0)\n",
    "cv2.destroyAllWindows()"
   ]
  },
  {
   "cell_type": "code",
   "execution_count": null,
   "metadata": {},
   "outputs": [],
   "source": [
    "#save the model\n",
    "model.save(\"EasyFact.h5\")"
   ]
  }
 ],
 "metadata": {
  "kernelspec": {
   "display_name": "Easyenv",
   "language": "python",
   "name": "python3"
  },
  "language_info": {
   "codemirror_mode": {
    "name": "ipython",
    "version": 3
   },
   "file_extension": ".py",
   "mimetype": "text/x-python",
   "name": "python",
   "nbconvert_exporter": "python",
   "pygments_lexer": "ipython3",
   "version": "3.11.1"
  },
  "orig_nbformat": 4,
  "vscode": {
   "interpreter": {
    "hash": "a2813f305917277f4828924d0316ad0c23b408df7d47da473b77225aae7520e0"
   }
  }
 },
 "nbformat": 4,
 "nbformat_minor": 2
}
